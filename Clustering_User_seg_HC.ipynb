{
 "cells": [
  {
   "cell_type": "code",
   "execution_count": null,
   "id": "53797917",
   "metadata": {},
   "outputs": [],
   "source": [
    "'''\n",
    "In this project mobile users are segmented according to several features\n",
    "givein in the dataset such as average screen time, average spent on app,\n",
    "       reveiws, 'Ratings', new password request,\n",
    "       last visited minutes', and installation/uninstallation of app.\n",
    "       \n",
    "I did segmentation analysis and show that there in this data sets users\n",
    "can be categorized into 6 groups. \n",
    "\n",
    "Project website: https://thecleverprogrammer.com/2023/01/30/app-user-segmentation-using-python/\n",
    "'''\n"
   ]
  },
  {
   "cell_type": "code",
   "execution_count": 24,
   "id": "b7ed6457",
   "metadata": {},
   "outputs": [],
   "source": [
    "import numpy as np\n",
    "import pandas as pd\n",
    "\n",
    "import matplotlib.pyplot as plt\n",
    "\n",
    "# pembe uyarilardan kurtulmak icin: \n",
    "import warnings\n",
    "warnings.filterwarnings(\"ignore\")"
   ]
  },
  {
   "cell_type": "code",
   "execution_count": 3,
   "id": "fcabd938",
   "metadata": {},
   "outputs": [],
   "source": [
    "df = pd.read_csv(\"userbehaviour.csv\")"
   ]
  },
  {
   "cell_type": "code",
   "execution_count": 4,
   "id": "e2d61253",
   "metadata": {},
   "outputs": [
    {
     "data": {
      "text/html": [
       "<div>\n",
       "<style scoped>\n",
       "    .dataframe tbody tr th:only-of-type {\n",
       "        vertical-align: middle;\n",
       "    }\n",
       "\n",
       "    .dataframe tbody tr th {\n",
       "        vertical-align: top;\n",
       "    }\n",
       "\n",
       "    .dataframe thead th {\n",
       "        text-align: right;\n",
       "    }\n",
       "</style>\n",
       "<table border=\"1\" class=\"dataframe\">\n",
       "  <thead>\n",
       "    <tr style=\"text-align: right;\">\n",
       "      <th></th>\n",
       "      <th>userid</th>\n",
       "      <th>Average Screen Time</th>\n",
       "      <th>Average Spent on App (INR)</th>\n",
       "      <th>Left Review</th>\n",
       "      <th>Ratings</th>\n",
       "      <th>New Password Request</th>\n",
       "      <th>Last Visited Minutes</th>\n",
       "      <th>Status</th>\n",
       "    </tr>\n",
       "  </thead>\n",
       "  <tbody>\n",
       "    <tr>\n",
       "      <th>0</th>\n",
       "      <td>1001</td>\n",
       "      <td>17.0</td>\n",
       "      <td>634.0</td>\n",
       "      <td>1</td>\n",
       "      <td>9</td>\n",
       "      <td>7</td>\n",
       "      <td>2990</td>\n",
       "      <td>Installed</td>\n",
       "    </tr>\n",
       "    <tr>\n",
       "      <th>1</th>\n",
       "      <td>1002</td>\n",
       "      <td>0.0</td>\n",
       "      <td>54.0</td>\n",
       "      <td>0</td>\n",
       "      <td>4</td>\n",
       "      <td>8</td>\n",
       "      <td>24008</td>\n",
       "      <td>Uninstalled</td>\n",
       "    </tr>\n",
       "    <tr>\n",
       "      <th>2</th>\n",
       "      <td>1003</td>\n",
       "      <td>37.0</td>\n",
       "      <td>207.0</td>\n",
       "      <td>0</td>\n",
       "      <td>8</td>\n",
       "      <td>5</td>\n",
       "      <td>971</td>\n",
       "      <td>Installed</td>\n",
       "    </tr>\n",
       "    <tr>\n",
       "      <th>3</th>\n",
       "      <td>1004</td>\n",
       "      <td>32.0</td>\n",
       "      <td>445.0</td>\n",
       "      <td>1</td>\n",
       "      <td>6</td>\n",
       "      <td>2</td>\n",
       "      <td>799</td>\n",
       "      <td>Installed</td>\n",
       "    </tr>\n",
       "    <tr>\n",
       "      <th>4</th>\n",
       "      <td>1005</td>\n",
       "      <td>45.0</td>\n",
       "      <td>427.0</td>\n",
       "      <td>1</td>\n",
       "      <td>5</td>\n",
       "      <td>6</td>\n",
       "      <td>3668</td>\n",
       "      <td>Installed</td>\n",
       "    </tr>\n",
       "    <tr>\n",
       "      <th>...</th>\n",
       "      <td>...</td>\n",
       "      <td>...</td>\n",
       "      <td>...</td>\n",
       "      <td>...</td>\n",
       "      <td>...</td>\n",
       "      <td>...</td>\n",
       "      <td>...</td>\n",
       "      <td>...</td>\n",
       "    </tr>\n",
       "    <tr>\n",
       "      <th>994</th>\n",
       "      <td>1995</td>\n",
       "      <td>38.0</td>\n",
       "      <td>938.0</td>\n",
       "      <td>0</td>\n",
       "      <td>5</td>\n",
       "      <td>4</td>\n",
       "      <td>1865</td>\n",
       "      <td>Installed</td>\n",
       "    </tr>\n",
       "    <tr>\n",
       "      <th>995</th>\n",
       "      <td>1996</td>\n",
       "      <td>43.0</td>\n",
       "      <td>61.0</td>\n",
       "      <td>0</td>\n",
       "      <td>6</td>\n",
       "      <td>8</td>\n",
       "      <td>1327</td>\n",
       "      <td>Installed</td>\n",
       "    </tr>\n",
       "    <tr>\n",
       "      <th>996</th>\n",
       "      <td>1997</td>\n",
       "      <td>47.0</td>\n",
       "      <td>761.0</td>\n",
       "      <td>0</td>\n",
       "      <td>6</td>\n",
       "      <td>1</td>\n",
       "      <td>1936</td>\n",
       "      <td>Installed</td>\n",
       "    </tr>\n",
       "    <tr>\n",
       "      <th>997</th>\n",
       "      <td>1998</td>\n",
       "      <td>6.0</td>\n",
       "      <td>73.0</td>\n",
       "      <td>1</td>\n",
       "      <td>5</td>\n",
       "      <td>1</td>\n",
       "      <td>3436</td>\n",
       "      <td>Installed</td>\n",
       "    </tr>\n",
       "    <tr>\n",
       "      <th>998</th>\n",
       "      <td>1999</td>\n",
       "      <td>9.0</td>\n",
       "      <td>54.0</td>\n",
       "      <td>0</td>\n",
       "      <td>4</td>\n",
       "      <td>2</td>\n",
       "      <td>4039</td>\n",
       "      <td>Installed</td>\n",
       "    </tr>\n",
       "  </tbody>\n",
       "</table>\n",
       "<p>999 rows × 8 columns</p>\n",
       "</div>"
      ],
      "text/plain": [
       "     userid  Average Screen Time  Average Spent on App (INR)  Left Review  \\\n",
       "0      1001                 17.0                       634.0            1   \n",
       "1      1002                  0.0                        54.0            0   \n",
       "2      1003                 37.0                       207.0            0   \n",
       "3      1004                 32.0                       445.0            1   \n",
       "4      1005                 45.0                       427.0            1   \n",
       "..      ...                  ...                         ...          ...   \n",
       "994    1995                 38.0                       938.0            0   \n",
       "995    1996                 43.0                        61.0            0   \n",
       "996    1997                 47.0                       761.0            0   \n",
       "997    1998                  6.0                        73.0            1   \n",
       "998    1999                  9.0                        54.0            0   \n",
       "\n",
       "     Ratings  New Password Request  Last Visited Minutes       Status  \n",
       "0          9                     7                  2990    Installed  \n",
       "1          4                     8                 24008  Uninstalled  \n",
       "2          8                     5                   971    Installed  \n",
       "3          6                     2                   799    Installed  \n",
       "4          5                     6                  3668    Installed  \n",
       "..       ...                   ...                   ...          ...  \n",
       "994        5                     4                  1865    Installed  \n",
       "995        6                     8                  1327    Installed  \n",
       "996        6                     1                  1936    Installed  \n",
       "997        5                     1                  3436    Installed  \n",
       "998        4                     2                  4039    Installed  \n",
       "\n",
       "[999 rows x 8 columns]"
      ]
     },
     "execution_count": 4,
     "metadata": {},
     "output_type": "execute_result"
    }
   ],
   "source": [
    "df"
   ]
  },
  {
   "cell_type": "code",
   "execution_count": 5,
   "id": "2c1307a7",
   "metadata": {},
   "outputs": [
    {
     "data": {
      "text/plain": [
       "array(['Installed', 'Uninstalled'], dtype=object)"
      ]
     },
     "execution_count": 5,
     "metadata": {},
     "output_type": "execute_result"
    }
   ],
   "source": [
    "df['Status'].unique()"
   ]
  },
  {
   "cell_type": "code",
   "execution_count": 7,
   "id": "2611c806",
   "metadata": {},
   "outputs": [],
   "source": [
    "stat = {\"Installed\":1, \"Uninstalled\" : 0}\n",
    "df['Status'] = df['Status'].map(stat)"
   ]
  },
  {
   "cell_type": "code",
   "execution_count": 8,
   "id": "f739e93b",
   "metadata": {},
   "outputs": [
    {
     "data": {
      "text/html": [
       "<div>\n",
       "<style scoped>\n",
       "    .dataframe tbody tr th:only-of-type {\n",
       "        vertical-align: middle;\n",
       "    }\n",
       "\n",
       "    .dataframe tbody tr th {\n",
       "        vertical-align: top;\n",
       "    }\n",
       "\n",
       "    .dataframe thead th {\n",
       "        text-align: right;\n",
       "    }\n",
       "</style>\n",
       "<table border=\"1\" class=\"dataframe\">\n",
       "  <thead>\n",
       "    <tr style=\"text-align: right;\">\n",
       "      <th></th>\n",
       "      <th>userid</th>\n",
       "      <th>Average Screen Time</th>\n",
       "      <th>Average Spent on App (INR)</th>\n",
       "      <th>Left Review</th>\n",
       "      <th>Ratings</th>\n",
       "      <th>New Password Request</th>\n",
       "      <th>Last Visited Minutes</th>\n",
       "      <th>Status</th>\n",
       "    </tr>\n",
       "  </thead>\n",
       "  <tbody>\n",
       "    <tr>\n",
       "      <th>0</th>\n",
       "      <td>1001</td>\n",
       "      <td>17.0</td>\n",
       "      <td>634.0</td>\n",
       "      <td>1</td>\n",
       "      <td>9</td>\n",
       "      <td>7</td>\n",
       "      <td>2990</td>\n",
       "      <td>1</td>\n",
       "    </tr>\n",
       "    <tr>\n",
       "      <th>1</th>\n",
       "      <td>1002</td>\n",
       "      <td>0.0</td>\n",
       "      <td>54.0</td>\n",
       "      <td>0</td>\n",
       "      <td>4</td>\n",
       "      <td>8</td>\n",
       "      <td>24008</td>\n",
       "      <td>0</td>\n",
       "    </tr>\n",
       "    <tr>\n",
       "      <th>2</th>\n",
       "      <td>1003</td>\n",
       "      <td>37.0</td>\n",
       "      <td>207.0</td>\n",
       "      <td>0</td>\n",
       "      <td>8</td>\n",
       "      <td>5</td>\n",
       "      <td>971</td>\n",
       "      <td>1</td>\n",
       "    </tr>\n",
       "    <tr>\n",
       "      <th>3</th>\n",
       "      <td>1004</td>\n",
       "      <td>32.0</td>\n",
       "      <td>445.0</td>\n",
       "      <td>1</td>\n",
       "      <td>6</td>\n",
       "      <td>2</td>\n",
       "      <td>799</td>\n",
       "      <td>1</td>\n",
       "    </tr>\n",
       "    <tr>\n",
       "      <th>4</th>\n",
       "      <td>1005</td>\n",
       "      <td>45.0</td>\n",
       "      <td>427.0</td>\n",
       "      <td>1</td>\n",
       "      <td>5</td>\n",
       "      <td>6</td>\n",
       "      <td>3668</td>\n",
       "      <td>1</td>\n",
       "    </tr>\n",
       "    <tr>\n",
       "      <th>...</th>\n",
       "      <td>...</td>\n",
       "      <td>...</td>\n",
       "      <td>...</td>\n",
       "      <td>...</td>\n",
       "      <td>...</td>\n",
       "      <td>...</td>\n",
       "      <td>...</td>\n",
       "      <td>...</td>\n",
       "    </tr>\n",
       "    <tr>\n",
       "      <th>994</th>\n",
       "      <td>1995</td>\n",
       "      <td>38.0</td>\n",
       "      <td>938.0</td>\n",
       "      <td>0</td>\n",
       "      <td>5</td>\n",
       "      <td>4</td>\n",
       "      <td>1865</td>\n",
       "      <td>1</td>\n",
       "    </tr>\n",
       "    <tr>\n",
       "      <th>995</th>\n",
       "      <td>1996</td>\n",
       "      <td>43.0</td>\n",
       "      <td>61.0</td>\n",
       "      <td>0</td>\n",
       "      <td>6</td>\n",
       "      <td>8</td>\n",
       "      <td>1327</td>\n",
       "      <td>1</td>\n",
       "    </tr>\n",
       "    <tr>\n",
       "      <th>996</th>\n",
       "      <td>1997</td>\n",
       "      <td>47.0</td>\n",
       "      <td>761.0</td>\n",
       "      <td>0</td>\n",
       "      <td>6</td>\n",
       "      <td>1</td>\n",
       "      <td>1936</td>\n",
       "      <td>1</td>\n",
       "    </tr>\n",
       "    <tr>\n",
       "      <th>997</th>\n",
       "      <td>1998</td>\n",
       "      <td>6.0</td>\n",
       "      <td>73.0</td>\n",
       "      <td>1</td>\n",
       "      <td>5</td>\n",
       "      <td>1</td>\n",
       "      <td>3436</td>\n",
       "      <td>1</td>\n",
       "    </tr>\n",
       "    <tr>\n",
       "      <th>998</th>\n",
       "      <td>1999</td>\n",
       "      <td>9.0</td>\n",
       "      <td>54.0</td>\n",
       "      <td>0</td>\n",
       "      <td>4</td>\n",
       "      <td>2</td>\n",
       "      <td>4039</td>\n",
       "      <td>1</td>\n",
       "    </tr>\n",
       "  </tbody>\n",
       "</table>\n",
       "<p>999 rows × 8 columns</p>\n",
       "</div>"
      ],
      "text/plain": [
       "     userid  Average Screen Time  Average Spent on App (INR)  Left Review  \\\n",
       "0      1001                 17.0                       634.0            1   \n",
       "1      1002                  0.0                        54.0            0   \n",
       "2      1003                 37.0                       207.0            0   \n",
       "3      1004                 32.0                       445.0            1   \n",
       "4      1005                 45.0                       427.0            1   \n",
       "..      ...                  ...                         ...          ...   \n",
       "994    1995                 38.0                       938.0            0   \n",
       "995    1996                 43.0                        61.0            0   \n",
       "996    1997                 47.0                       761.0            0   \n",
       "997    1998                  6.0                        73.0            1   \n",
       "998    1999                  9.0                        54.0            0   \n",
       "\n",
       "     Ratings  New Password Request  Last Visited Minutes  Status  \n",
       "0          9                     7                  2990       1  \n",
       "1          4                     8                 24008       0  \n",
       "2          8                     5                   971       1  \n",
       "3          6                     2                   799       1  \n",
       "4          5                     6                  3668       1  \n",
       "..       ...                   ...                   ...     ...  \n",
       "994        5                     4                  1865       1  \n",
       "995        6                     8                  1327       1  \n",
       "996        6                     1                  1936       1  \n",
       "997        5                     1                  3436       1  \n",
       "998        4                     2                  4039       1  \n",
       "\n",
       "[999 rows x 8 columns]"
      ]
     },
     "execution_count": 8,
     "metadata": {},
     "output_type": "execute_result"
    }
   ],
   "source": [
    "df"
   ]
  },
  {
   "cell_type": "code",
   "execution_count": 10,
   "id": "c217b6b2",
   "metadata": {},
   "outputs": [
    {
     "name": "stdout",
     "output_type": "stream",
     "text": [
      "<class 'pandas.core.frame.DataFrame'>\n",
      "RangeIndex: 999 entries, 0 to 998\n",
      "Data columns (total 8 columns):\n",
      " #   Column                      Non-Null Count  Dtype  \n",
      "---  ------                      --------------  -----  \n",
      " 0   userid                      999 non-null    int64  \n",
      " 1   Average Screen Time         999 non-null    float64\n",
      " 2   Average Spent on App (INR)  999 non-null    float64\n",
      " 3   Left Review                 999 non-null    int64  \n",
      " 4   Ratings                     999 non-null    int64  \n",
      " 5   New Password Request        999 non-null    int64  \n",
      " 6   Last Visited Minutes        999 non-null    int64  \n",
      " 7   Status                      999 non-null    int64  \n",
      "dtypes: float64(2), int64(6)\n",
      "memory usage: 62.6 KB\n"
     ]
    }
   ],
   "source": [
    "df.info()"
   ]
  },
  {
   "cell_type": "code",
   "execution_count": 11,
   "id": "7f40937b",
   "metadata": {},
   "outputs": [
    {
     "data": {
      "text/plain": [
       "Index(['userid', 'Average Screen Time', 'Average Spent on App (INR)',\n",
       "       'Left Review', 'Ratings', 'New Password Request',\n",
       "       'Last Visited Minutes', 'Status'],\n",
       "      dtype='object')"
      ]
     },
     "execution_count": 11,
     "metadata": {},
     "output_type": "execute_result"
    }
   ],
   "source": [
    "df.columns"
   ]
  },
  {
   "cell_type": "code",
   "execution_count": 12,
   "id": "ce953495",
   "metadata": {},
   "outputs": [],
   "source": [
    "x =df[['Average Screen Time', 'Average Spent on App (INR)',\n",
    "       'Left Review', 'Ratings', 'New Password Request',\n",
    "       'Last Visited Minutes', 'Status']]"
   ]
  },
  {
   "cell_type": "code",
   "execution_count": 13,
   "id": "753122db",
   "metadata": {},
   "outputs": [
    {
     "data": {
      "text/html": [
       "<div>\n",
       "<style scoped>\n",
       "    .dataframe tbody tr th:only-of-type {\n",
       "        vertical-align: middle;\n",
       "    }\n",
       "\n",
       "    .dataframe tbody tr th {\n",
       "        vertical-align: top;\n",
       "    }\n",
       "\n",
       "    .dataframe thead th {\n",
       "        text-align: right;\n",
       "    }\n",
       "</style>\n",
       "<table border=\"1\" class=\"dataframe\">\n",
       "  <thead>\n",
       "    <tr style=\"text-align: right;\">\n",
       "      <th></th>\n",
       "      <th>Average Screen Time</th>\n",
       "      <th>Average Spent on App (INR)</th>\n",
       "      <th>Left Review</th>\n",
       "      <th>Ratings</th>\n",
       "      <th>New Password Request</th>\n",
       "      <th>Last Visited Minutes</th>\n",
       "      <th>Status</th>\n",
       "    </tr>\n",
       "  </thead>\n",
       "  <tbody>\n",
       "    <tr>\n",
       "      <th>0</th>\n",
       "      <td>17.0</td>\n",
       "      <td>634.0</td>\n",
       "      <td>1</td>\n",
       "      <td>9</td>\n",
       "      <td>7</td>\n",
       "      <td>2990</td>\n",
       "      <td>1</td>\n",
       "    </tr>\n",
       "    <tr>\n",
       "      <th>1</th>\n",
       "      <td>0.0</td>\n",
       "      <td>54.0</td>\n",
       "      <td>0</td>\n",
       "      <td>4</td>\n",
       "      <td>8</td>\n",
       "      <td>24008</td>\n",
       "      <td>0</td>\n",
       "    </tr>\n",
       "    <tr>\n",
       "      <th>2</th>\n",
       "      <td>37.0</td>\n",
       "      <td>207.0</td>\n",
       "      <td>0</td>\n",
       "      <td>8</td>\n",
       "      <td>5</td>\n",
       "      <td>971</td>\n",
       "      <td>1</td>\n",
       "    </tr>\n",
       "    <tr>\n",
       "      <th>3</th>\n",
       "      <td>32.0</td>\n",
       "      <td>445.0</td>\n",
       "      <td>1</td>\n",
       "      <td>6</td>\n",
       "      <td>2</td>\n",
       "      <td>799</td>\n",
       "      <td>1</td>\n",
       "    </tr>\n",
       "    <tr>\n",
       "      <th>4</th>\n",
       "      <td>45.0</td>\n",
       "      <td>427.0</td>\n",
       "      <td>1</td>\n",
       "      <td>5</td>\n",
       "      <td>6</td>\n",
       "      <td>3668</td>\n",
       "      <td>1</td>\n",
       "    </tr>\n",
       "    <tr>\n",
       "      <th>...</th>\n",
       "      <td>...</td>\n",
       "      <td>...</td>\n",
       "      <td>...</td>\n",
       "      <td>...</td>\n",
       "      <td>...</td>\n",
       "      <td>...</td>\n",
       "      <td>...</td>\n",
       "    </tr>\n",
       "    <tr>\n",
       "      <th>994</th>\n",
       "      <td>38.0</td>\n",
       "      <td>938.0</td>\n",
       "      <td>0</td>\n",
       "      <td>5</td>\n",
       "      <td>4</td>\n",
       "      <td>1865</td>\n",
       "      <td>1</td>\n",
       "    </tr>\n",
       "    <tr>\n",
       "      <th>995</th>\n",
       "      <td>43.0</td>\n",
       "      <td>61.0</td>\n",
       "      <td>0</td>\n",
       "      <td>6</td>\n",
       "      <td>8</td>\n",
       "      <td>1327</td>\n",
       "      <td>1</td>\n",
       "    </tr>\n",
       "    <tr>\n",
       "      <th>996</th>\n",
       "      <td>47.0</td>\n",
       "      <td>761.0</td>\n",
       "      <td>0</td>\n",
       "      <td>6</td>\n",
       "      <td>1</td>\n",
       "      <td>1936</td>\n",
       "      <td>1</td>\n",
       "    </tr>\n",
       "    <tr>\n",
       "      <th>997</th>\n",
       "      <td>6.0</td>\n",
       "      <td>73.0</td>\n",
       "      <td>1</td>\n",
       "      <td>5</td>\n",
       "      <td>1</td>\n",
       "      <td>3436</td>\n",
       "      <td>1</td>\n",
       "    </tr>\n",
       "    <tr>\n",
       "      <th>998</th>\n",
       "      <td>9.0</td>\n",
       "      <td>54.0</td>\n",
       "      <td>0</td>\n",
       "      <td>4</td>\n",
       "      <td>2</td>\n",
       "      <td>4039</td>\n",
       "      <td>1</td>\n",
       "    </tr>\n",
       "  </tbody>\n",
       "</table>\n",
       "<p>999 rows × 7 columns</p>\n",
       "</div>"
      ],
      "text/plain": [
       "     Average Screen Time  Average Spent on App (INR)  Left Review  Ratings  \\\n",
       "0                   17.0                       634.0            1        9   \n",
       "1                    0.0                        54.0            0        4   \n",
       "2                   37.0                       207.0            0        8   \n",
       "3                   32.0                       445.0            1        6   \n",
       "4                   45.0                       427.0            1        5   \n",
       "..                   ...                         ...          ...      ...   \n",
       "994                 38.0                       938.0            0        5   \n",
       "995                 43.0                        61.0            0        6   \n",
       "996                 47.0                       761.0            0        6   \n",
       "997                  6.0                        73.0            1        5   \n",
       "998                  9.0                        54.0            0        4   \n",
       "\n",
       "     New Password Request  Last Visited Minutes  Status  \n",
       "0                       7                  2990       1  \n",
       "1                       8                 24008       0  \n",
       "2                       5                   971       1  \n",
       "3                       2                   799       1  \n",
       "4                       6                  3668       1  \n",
       "..                    ...                   ...     ...  \n",
       "994                     4                  1865       1  \n",
       "995                     8                  1327       1  \n",
       "996                     1                  1936       1  \n",
       "997                     1                  3436       1  \n",
       "998                     2                  4039       1  \n",
       "\n",
       "[999 rows x 7 columns]"
      ]
     },
     "execution_count": 13,
     "metadata": {},
     "output_type": "execute_result"
    }
   ],
   "source": []
  },
  {
   "cell_type": "code",
   "execution_count": 14,
   "id": "74555070",
   "metadata": {},
   "outputs": [],
   "source": [
    "from sklearn.cluster import KMeans\n",
    "from sklearn.metrics import silhouette_score"
   ]
  },
  {
   "cell_type": "code",
   "execution_count": 15,
   "id": "3b77baef",
   "metadata": {},
   "outputs": [
    {
     "name": "stdout",
     "output_type": "stream",
     "text": [
      "<class 'pandas.core.frame.DataFrame'>\n",
      "RangeIndex: 999 entries, 0 to 998\n",
      "Data columns (total 7 columns):\n",
      " #   Column                      Non-Null Count  Dtype  \n",
      "---  ------                      --------------  -----  \n",
      " 0   Average Screen Time         999 non-null    float64\n",
      " 1   Average Spent on App (INR)  999 non-null    float64\n",
      " 2   Left Review                 999 non-null    int64  \n",
      " 3   Ratings                     999 non-null    int64  \n",
      " 4   New Password Request        999 non-null    int64  \n",
      " 5   Last Visited Minutes        999 non-null    int64  \n",
      " 6   Status                      999 non-null    int64  \n",
      "dtypes: float64(2), int64(5)\n",
      "memory usage: 54.8 KB\n"
     ]
    }
   ],
   "source": [
    "x.info()"
   ]
  },
  {
   "cell_type": "code",
   "execution_count": 54,
   "id": "36515dfa",
   "metadata": {},
   "outputs": [],
   "source": [
    "model = KMeans(4)\n",
    "model = model.fit(x)"
   ]
  },
  {
   "cell_type": "code",
   "execution_count": 55,
   "id": "c40091f0",
   "metadata": {},
   "outputs": [],
   "source": [
    "tahmin = model.predict(x)"
   ]
  },
  {
   "cell_type": "code",
   "execution_count": 56,
   "id": "bd9b3590",
   "metadata": {},
   "outputs": [],
   "source": [
    "x['cluster'] = tahmin"
   ]
  },
  {
   "cell_type": "code",
   "execution_count": 57,
   "id": "829b3920",
   "metadata": {},
   "outputs": [
    {
     "data": {
      "text/html": [
       "<div>\n",
       "<style scoped>\n",
       "    .dataframe tbody tr th:only-of-type {\n",
       "        vertical-align: middle;\n",
       "    }\n",
       "\n",
       "    .dataframe tbody tr th {\n",
       "        vertical-align: top;\n",
       "    }\n",
       "\n",
       "    .dataframe thead th {\n",
       "        text-align: right;\n",
       "    }\n",
       "</style>\n",
       "<table border=\"1\" class=\"dataframe\">\n",
       "  <thead>\n",
       "    <tr style=\"text-align: right;\">\n",
       "      <th></th>\n",
       "      <th>Average Screen Time</th>\n",
       "      <th>Average Spent on App (INR)</th>\n",
       "      <th>Left Review</th>\n",
       "      <th>Ratings</th>\n",
       "      <th>New Password Request</th>\n",
       "      <th>Last Visited Minutes</th>\n",
       "      <th>Status</th>\n",
       "      <th>cluster</th>\n",
       "    </tr>\n",
       "  </thead>\n",
       "  <tbody>\n",
       "    <tr>\n",
       "      <th>0</th>\n",
       "      <td>17.0</td>\n",
       "      <td>634.0</td>\n",
       "      <td>1</td>\n",
       "      <td>9</td>\n",
       "      <td>7</td>\n",
       "      <td>2990</td>\n",
       "      <td>1</td>\n",
       "      <td>0</td>\n",
       "    </tr>\n",
       "    <tr>\n",
       "      <th>1</th>\n",
       "      <td>0.0</td>\n",
       "      <td>54.0</td>\n",
       "      <td>0</td>\n",
       "      <td>4</td>\n",
       "      <td>8</td>\n",
       "      <td>24008</td>\n",
       "      <td>0</td>\n",
       "      <td>3</td>\n",
       "    </tr>\n",
       "    <tr>\n",
       "      <th>2</th>\n",
       "      <td>37.0</td>\n",
       "      <td>207.0</td>\n",
       "      <td>0</td>\n",
       "      <td>8</td>\n",
       "      <td>5</td>\n",
       "      <td>971</td>\n",
       "      <td>1</td>\n",
       "      <td>2</td>\n",
       "    </tr>\n",
       "    <tr>\n",
       "      <th>3</th>\n",
       "      <td>32.0</td>\n",
       "      <td>445.0</td>\n",
       "      <td>1</td>\n",
       "      <td>6</td>\n",
       "      <td>2</td>\n",
       "      <td>799</td>\n",
       "      <td>1</td>\n",
       "      <td>2</td>\n",
       "    </tr>\n",
       "    <tr>\n",
       "      <th>4</th>\n",
       "      <td>45.0</td>\n",
       "      <td>427.0</td>\n",
       "      <td>1</td>\n",
       "      <td>5</td>\n",
       "      <td>6</td>\n",
       "      <td>3668</td>\n",
       "      <td>1</td>\n",
       "      <td>0</td>\n",
       "    </tr>\n",
       "  </tbody>\n",
       "</table>\n",
       "</div>"
      ],
      "text/plain": [
       "   Average Screen Time  Average Spent on App (INR)  Left Review  Ratings  \\\n",
       "0                 17.0                       634.0            1        9   \n",
       "1                  0.0                        54.0            0        4   \n",
       "2                 37.0                       207.0            0        8   \n",
       "3                 32.0                       445.0            1        6   \n",
       "4                 45.0                       427.0            1        5   \n",
       "\n",
       "   New Password Request  Last Visited Minutes  Status  cluster  \n",
       "0                     7                  2990       1        0  \n",
       "1                     8                 24008       0        3  \n",
       "2                     5                   971       1        2  \n",
       "3                     2                   799       1        2  \n",
       "4                     6                  3668       1        0  "
      ]
     },
     "execution_count": 57,
     "metadata": {},
     "output_type": "execute_result"
    }
   ],
   "source": [
    "x.head()"
   ]
  },
  {
   "cell_type": "code",
   "execution_count": 45,
   "id": "c19307ae",
   "metadata": {},
   "outputs": [
    {
     "data": {
      "text/plain": [
       "0    472\n",
       "4    434\n",
       "2     27\n",
       "3     26\n",
       "5     21\n",
       "1     19\n",
       "Name: cluster, dtype: int64"
      ]
     },
     "execution_count": 45,
     "metadata": {},
     "output_type": "execute_result"
    }
   ],
   "source": [
    "x['cluster'].value_counts()"
   ]
  },
  {
   "cell_type": "code",
   "execution_count": 46,
   "id": "33dafe7b",
   "metadata": {},
   "outputs": [
    {
     "data": {
      "text/plain": [
       "0.5860617757983406"
      ]
     },
     "execution_count": 46,
     "metadata": {},
     "output_type": "execute_result"
    }
   ],
   "source": [
    "silhouette_score(x,tahmin) \n",
    "# score cok fark etmiyor kac gruba ayrimamizin en optimuma yakinligini goruyroz"
   ]
  },
  {
   "cell_type": "code",
   "execution_count": 53,
   "id": "ceaf40a8",
   "metadata": {},
   "outputs": [
    {
     "data": {
      "text/plain": [
       "<matplotlib.collections.PathCollection at 0x222ad417690>"
      ]
     },
     "execution_count": 53,
     "metadata": {},
     "output_type": "execute_result"
    },
    {
     "data": {
      "image/png": "[encoded data removed]",
      "text/plain": [
       "<Figure size 640x480 with 1 Axes>"
      ]
     },
     "metadata": {},
     "output_type": "display_data"
    }
   ],
   "source": [
    "plt.figure()\n",
    "#plt.scatter(x[\"Average Screen Time\"], x[\"Average Spent on App (INR)\"], c = tahmin)\n",
    "#plt.scatter(x[\"Average Screen Time\"], x[\"Average Spent on App (INR)\"], c = tahmin)\n",
    "#plt.scatter(x[\"Last Visited Minutes\"], x[\"Ratings\"], c = tahmin)\n",
    "plt.scatter(x[\"Last Visited Minutes\"], x[\"Average Spent on App (INR)\"], c = tahmin)"
   ]
  },
  {
   "cell_type": "code",
   "execution_count": 48,
   "id": "eebd68fa",
   "metadata": {},
   "outputs": [],
   "source": [
    "allscore= []\n",
    "allclusters = []\n",
    "distances = []\n",
    "def clust(kactane):\n",
    "    for i in range(1,kactane):\n",
    "        i = i+1\n",
    "        model   = KMeans(i)\n",
    "        model   = model.fit(x)\n",
    "        tahmin  = model.predict(x)\n",
    "        score   = silhouette_score(x,tahmin)\n",
    "        distance = model.inertia_\n",
    "        print('cluster ',i,\" score: \", score)\n",
    "        allscore.append(score) \n",
    "        allclusters.append(i)\n",
    "        distances.append(distance)"
   ]
  },
  {
   "cell_type": "code",
   "execution_count": 49,
   "id": "b642924d",
   "metadata": {},
   "outputs": [
    {
     "name": "stdout",
     "output_type": "stream",
     "text": [
      "cluster  2  score:  0.9006578891978823\n",
      "cluster  3  score:  0.866449874967522\n",
      "cluster  4  score:  0.5802491756408693\n",
      "cluster  5  score:  0.5864856609144307\n",
      "cluster  6  score:  0.5859486505394981\n",
      "cluster  7  score:  0.5889322877676804\n",
      "cluster  8  score:  0.5105685795389284\n",
      "cluster  9  score:  0.5152776242767297\n",
      "cluster  10  score:  0.45544115679057523\n"
     ]
    }
   ],
   "source": [
    "clust(10)"
   ]
  },
  {
   "cell_type": "code",
   "execution_count": 50,
   "id": "dcdfdecc",
   "metadata": {},
   "outputs": [
    {
     "data": {
      "text/plain": [
       "[<matplotlib.lines.Line2D at 0x222ad4688d0>]"
      ]
     },
     "execution_count": 50,
     "metadata": {},
     "output_type": "execute_result"
    },
    {
     "data": {
      "image/png": "[encoded data removed]",
      "text/plain": [
       "<Figure size 640x480 with 1 Axes>"
      ]
     },
     "metadata": {},
     "output_type": "display_data"
    }
   ],
   "source": [
    "plt.plot(allclusters,distances)"
   ]
  },
  {
   "cell_type": "code",
   "execution_count": 51,
   "id": "f7578ae8",
   "metadata": {},
   "outputs": [],
   "source": [
    "from scipy.cluster.hierarchy import dendrogram, linkage\n",
    "link_data = linkage(x, method = \"ward\", metric = \"euclidean\")"
   ]
  },
  {
   "cell_type": "code",
   "execution_count": 40,
   "id": "6afd90de",
   "metadata": {},
   "outputs": [
    {
     "data": {
      "image/png": "[encoded data removed]",
      "text/plain": [
       "<Figure size 640x480 with 1 Axes>"
      ]
     },
     "metadata": {},
     "output_type": "display_data"
    }
   ],
   "source": [
    "dendrogram(link_data)\n",
    "plt.show()"
   ]
  },
  {
   "cell_type": "code",
   "execution_count": null,
   "id": "b8824110",
   "metadata": {},
   "outputs": [],
   "source": []
  }
 ],
 "metadata": {
  "kernelspec": {
   "display_name": "Python 3 (ipykernel)",
   "language": "python",
   "name": "python3"
  },
  "language_info": {
   "codemirror_mode": {
    "name": "ipython",
    "version": 3
   },
   "file_extension": ".py",
   "mimetype": "text/x-python",
   "name": "python",
   "nbconvert_exporter": "python",
   "pygments_lexer": "ipython3",
   "version": "3.11.5"
  }
 },
 "nbformat": 4,
 "nbformat_minor": 5
}
